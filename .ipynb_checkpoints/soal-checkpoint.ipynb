{
 "cells": [
  {
   "cell_type": "code",
   "execution_count": 3,
   "id": "bac4fb3f-fa04-4aaf-a3fa-82763c05ea0d",
   "metadata": {
    "tags": []
   },
   "outputs": [],
   "source": [
    "import json\n",
    "from Src.data import DATA_DIR"
   ]
  },
  {
   "cell_type": "code",
   "execution_count": 4,
   "id": "74191177-44d2-421e-a52b-eb215b6cad19",
   "metadata": {
    "tags": []
   },
   "outputs": [],
   "source": [
    "with open(DATA_DIR/'result.json') as f:\n",
    "    data = json.load(f)"
   ]
  },
  {
   "cell_type": "code",
   "execution_count": 5,
   "id": "6a74dde9-a396-449b-af0b-71c1056f16d4",
   "metadata": {
    "tags": []
   },
   "outputs": [],
   "source": [
    "messages = iter(data['messages'])"
   ]
  },
  {
   "cell_type": "code",
   "execution_count": 6,
   "id": "b5e99133-4468-40be-8891-f75d5369f6cb",
   "metadata": {
    "tags": []
   },
   "outputs": [],
   "source": [
    "q=[]\n",
    "for msg in messages:\n",
    "    if '?' in msg['text'] or '؟' in msg['text']:\n",
    "        q.append(msg['text'])"
   ]
  },
  {
   "cell_type": "code",
   "execution_count": 7,
   "id": "536ffef2-e0ee-4df5-8828-fab3b21ebd07",
   "metadata": {
    "tags": []
   },
   "outputs": [
    {
     "data": {
      "text/plain": [
       "11"
      ]
     },
     "execution_count": 7,
     "metadata": {},
     "output_type": "execute_result"
    }
   ],
   "source": [
    "len(q)"
   ]
  },
  {
   "cell_type": "code",
   "execution_count": 9,
   "id": "bfc7fc68-5b62-42c4-a934-97db69a1f39d",
   "metadata": {
    "tags": []
   },
   "outputs": [
    {
     "data": {
      "text/plain": [
       "['استاد طبق کارت ورود ب جلسه دوتا امتحان تخصصی تو ی روز و ی ساعته!\\nهم درس شما هم درس طراحی زبان برنامه نویسی استاد عمادی ۱۱ تیر ساعت ۱۴ هستن\\nالان این موضوع انصافه ک تا قرون اخر باید پرداخت کرد بدهی رو بعد دوتا امتحان تخصصی تو ی ساعت و زمان باشه؟',\n",
       " 'چطور میشه دوتا امتحان رو باهم دیگه داد؟؟؟',\n",
       " 'استاد شما دوتا سوال باید طرح کنید\\nماهم باید دوتا درس امتحان بدیم\\nبنظرتون همون توان و دقت رو میتونیم بزاریم رو امتحان؟',\n",
       " 'خوب شد؟؟؟؟؟؟',\n",
       " '۱۱م امتحان هست صد در صد دیگه؟',\n",
       " 'استاد فردا ساعت امتحان همین 2 هست ؟',\n",
       " 'اینقدر چونه زدید حالا میگی ۱۱ میایی؟😄',\n",
       " 'استاد حفظیا و مسئله ها کلا تستیه؟',\n",
       " 'کدوم مثال مشکل دارین ؟!؟',\n",
       " 'شما میتونید از هر کدوم ی مثال بزنین لطفا؟؟',\n",
       " '😐😐 از هر کدوم که 15 تا الگوریتم هست . 15 تا مثال ؟!!!؟ 😐😐']"
      ]
     },
     "execution_count": 9,
     "metadata": {},
     "output_type": "execute_result"
    }
   ],
   "source": [
    "q"
   ]
  },
  {
   "cell_type": "code",
   "execution_count": null,
   "id": "9244dcde-f4d3-4118-8dae-589821dbc3bd",
   "metadata": {},
   "outputs": [],
   "source": []
  }
 ],
 "metadata": {
  "kernelspec": {
   "display_name": "Python 3 (ipykernel)",
   "language": "python",
   "name": "python3"
  },
  "language_info": {
   "codemirror_mode": {
    "name": "ipython",
    "version": 3
   },
   "file_extension": ".py",
   "mimetype": "text/x-python",
   "name": "python",
   "nbconvert_exporter": "python",
   "pygments_lexer": "ipython3",
   "version": "3.11.3"
  }
 },
 "nbformat": 4,
 "nbformat_minor": 5
}
