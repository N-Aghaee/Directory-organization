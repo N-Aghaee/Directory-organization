{
 "cells": [
  {
   "cell_type": "code",
   "execution_count": null,
   "id": "5b044756-ffe5-444e-9651-40d4e6df4893",
   "metadata": {},
   "outputs": [],
   "source": [
    "hazm==0.9.1"
   ]
  }
 ],
 "metadata": {
  "kernelspec": {
   "display_name": "Python 3 (ipykernel)",
   "language": "python",
   "name": "python3"
  },
  "language_info": {
   "codemirror_mode": {
    "name": "ipython",
    "version": 3
   },
   "file_extension": ".py",
   "mimetype": "text/x-python",
   "name": "python",
   "nbconvert_exporter": "python",
   "pygments_lexer": "ipython3",
   "version": "3.11.3"
  }
 },
 "nbformat": 4,
 "nbformat_minor": 5
}
